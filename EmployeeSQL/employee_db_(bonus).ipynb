{
 "cells": [
  {
   "cell_type": "markdown",
   "id": "5e45ad75",
   "metadata": {},
   "source": [
    "# Import SQL database into Pandas"
   ]
  },
  {
   "cell_type": "code",
   "execution_count": 1,
   "id": "f9996385",
   "metadata": {
    "scrolled": true
   },
   "outputs": [],
   "source": [
    "import pandas as pd\n",
    "from sqlalchemy import create_engine\n",
    "import os\n",
    "from db_connection import user,ps,host,port\n",
    "import matplotlib.mlab as mlab\n",
    "import matplotlib.pyplot as plt\n",
    "import matplotlib.ticker as ticker"
   ]
  },
  {
   "cell_type": "code",
   "execution_count": 2,
   "id": "7ecc3adc",
   "metadata": {},
   "outputs": [],
   "source": [
    " # variables to populate the database connection string\n",
    "db_user = user\n",
    "db_password = ps\n",
    "db_host = host\n",
    "db_port = port\n",
    "\n",
    "# This database must already exist\n",
    "db_name = \"employee_db\""
   ]
  },
  {
   "cell_type": "code",
   "execution_count": 3,
   "id": "cf1aa36e",
   "metadata": {},
   "outputs": [],
   "source": [
    "#Create engine to connect to the DB\n",
    "engine = create_engine(f'postgresql://{db_user}:{db_password}@{db_host}:{db_port}/{db_name}')"
   ]
  },
  {
   "cell_type": "markdown",
   "id": "c0b53040",
   "metadata": {},
   "source": [
    "# Histogram to visualize the most common salary ranges for employees"
   ]
  },
  {
   "cell_type": "code",
   "execution_count": 4,
   "id": "7ebd1d7f",
   "metadata": {},
   "outputs": [
    {
     "data": {
      "text/html": [
       "<div>\n",
       "<style scoped>\n",
       "    .dataframe tbody tr th:only-of-type {\n",
       "        vertical-align: middle;\n",
       "    }\n",
       "\n",
       "    .dataframe tbody tr th {\n",
       "        vertical-align: top;\n",
       "    }\n",
       "\n",
       "    .dataframe thead th {\n",
       "        text-align: right;\n",
       "    }\n",
       "</style>\n",
       "<table border=\"1\" class=\"dataframe\">\n",
       "  <thead>\n",
       "    <tr style=\"text-align: right;\">\n",
       "      <th></th>\n",
       "      <th>emp_no</th>\n",
       "      <th>salary</th>\n",
       "    </tr>\n",
       "  </thead>\n",
       "  <tbody>\n",
       "    <tr>\n",
       "      <th>0</th>\n",
       "      <td>10001</td>\n",
       "      <td>60117</td>\n",
       "    </tr>\n",
       "    <tr>\n",
       "      <th>1</th>\n",
       "      <td>10002</td>\n",
       "      <td>65828</td>\n",
       "    </tr>\n",
       "    <tr>\n",
       "      <th>2</th>\n",
       "      <td>10003</td>\n",
       "      <td>40006</td>\n",
       "    </tr>\n",
       "    <tr>\n",
       "      <th>3</th>\n",
       "      <td>10004</td>\n",
       "      <td>40054</td>\n",
       "    </tr>\n",
       "    <tr>\n",
       "      <th>4</th>\n",
       "      <td>10005</td>\n",
       "      <td>78228</td>\n",
       "    </tr>\n",
       "  </tbody>\n",
       "</table>\n",
       "</div>"
      ],
      "text/plain": [
       "   emp_no  salary\n",
       "0   10001   60117\n",
       "1   10002   65828\n",
       "2   10003   40006\n",
       "3   10004   40054\n",
       "4   10005   78228"
      ]
     },
     "execution_count": 4,
     "metadata": {},
     "output_type": "execute_result"
    }
   ],
   "source": [
    "salary = pd.read_sql_table(\"salaries\",engine)\n",
    "salary.head()"
   ]
  },
  {
   "cell_type": "code",
   "execution_count": 5,
   "id": "166c893b",
   "metadata": {},
   "outputs": [
    {
     "data": {
      "text/plain": [
       "0         60117\n",
       "1         65828\n",
       "2         40006\n",
       "3         40054\n",
       "4         78228\n",
       "          ...  \n",
       "300019    40000\n",
       "300020    58058\n",
       "300021    49597\n",
       "300022    40000\n",
       "300023    63707\n",
       "Name: salary, Length: 300024, dtype: int64"
      ]
     },
     "execution_count": 5,
     "metadata": {},
     "output_type": "execute_result"
    }
   ],
   "source": [
    "x = salary[\"salary\"]\n",
    "x"
   ]
  },
  {
   "cell_type": "code",
   "execution_count": 6,
   "id": "61643f9d",
   "metadata": {},
   "outputs": [
    {
     "data": {
      "image/png": "[encoded data removed]",
      "text/plain": [
       "<Figure size 432x288 with 1 Axes>"
      ]
     },
     "metadata": {
      "needs_background": "light"
     },
     "output_type": "display_data"
    }
   ],
   "source": [
    "#create a bin\n",
    "num_bins = 10\n",
    "n, bins, patches = plt.hist(x, num_bins, facecolor='blue', alpha=0.5)\n",
    "\n",
    "plt.xlabel('Salary Amount')\n",
    "plt.ylabel('Number of Employees')\n",
    "plt.title('Most Common Salary Ranges For Employees')\n",
    "plt.grid()\n",
    "plt.tight_layout()\n",
    "plt.show()"
   ]
  },
  {
   "cell_type": "markdown",
   "id": "d9998a02",
   "metadata": {},
   "source": [
    "# Bar chart of average salary by title"
   ]
  },
  {
   "cell_type": "code",
   "execution_count": 7,
   "id": "1c572402",
   "metadata": {},
   "outputs": [
    {
     "data": {
      "text/html": [
       "<div>\n",
       "<style scoped>\n",
       "    .dataframe tbody tr th:only-of-type {\n",
       "        vertical-align: middle;\n",
       "    }\n",
       "\n",
       "    .dataframe tbody tr th {\n",
       "        vertical-align: top;\n",
       "    }\n",
       "\n",
       "    .dataframe thead th {\n",
       "        text-align: right;\n",
       "    }\n",
       "</style>\n",
       "<table border=\"1\" class=\"dataframe\">\n",
       "  <thead>\n",
       "    <tr style=\"text-align: right;\">\n",
       "      <th></th>\n",
       "      <th>title</th>\n",
       "      <th>salary</th>\n",
       "    </tr>\n",
       "  </thead>\n",
       "  <tbody>\n",
       "    <tr>\n",
       "      <th>0</th>\n",
       "      <td>Engineer</td>\n",
       "      <td>48973</td>\n",
       "    </tr>\n",
       "    <tr>\n",
       "      <th>1</th>\n",
       "      <td>Senior Engineer</td>\n",
       "      <td>40000</td>\n",
       "    </tr>\n",
       "    <tr>\n",
       "      <th>2</th>\n",
       "      <td>Technique Leader</td>\n",
       "      <td>43548</td>\n",
       "    </tr>\n",
       "    <tr>\n",
       "      <th>3</th>\n",
       "      <td>Staff</td>\n",
       "      <td>63377</td>\n",
       "    </tr>\n",
       "    <tr>\n",
       "      <th>4</th>\n",
       "      <td>Senior Engineer</td>\n",
       "      <td>40000</td>\n",
       "    </tr>\n",
       "  </tbody>\n",
       "</table>\n",
       "</div>"
      ],
      "text/plain": [
       "              title  salary\n",
       "0          Engineer   48973\n",
       "1   Senior Engineer   40000\n",
       "2  Technique Leader   43548\n",
       "3             Staff   63377\n",
       "4   Senior Engineer   40000"
      ]
     },
     "execution_count": 7,
     "metadata": {},
     "output_type": "execute_result"
    }
   ],
   "source": [
    "query = '''\n",
    "SELECT t.title,s.salary\n",
    "FROM salaries AS s\n",
    "INNER JOIN employees AS e\n",
    "ON (s.emp_no = e.emp_no)\n",
    "INNER JOIN titles AS t\n",
    "ON e.emp_title = t.title_id;\n",
    "'''\n",
    "\n",
    "title_salary = pd.read_sql_query(query,engine)\n",
    "title_salary.head()"
   ]
  },
  {
   "cell_type": "code",
   "execution_count": 8,
   "id": "dd3116af",
   "metadata": {},
   "outputs": [
    {
     "data": {
      "text/plain": [
       "title\n",
       "Assistant Engineer    48564.434447\n",
       "Engineer              48535.336511\n",
       "Manager               51531.041667\n",
       "Senior Engineer       48506.799871\n",
       "Senior Staff          58550.172704\n",
       "Staff                 58465.382850\n",
       "Technique Leader      48582.896092\n",
       "Name: salary, dtype: float64"
      ]
     },
     "execution_count": 8,
     "metadata": {},
     "output_type": "execute_result"
    }
   ],
   "source": [
    "group_sal = title_salary.groupby(title_salary[\"title\"])\n",
    "avg_salary = group_sal[\"salary\"].mean()\n",
    "avg_salary"
   ]
  },
  {
   "cell_type": "code",
   "execution_count": 9,
   "id": "9ed49130",
   "metadata": {},
   "outputs": [
    {
     "data": {
      "text/html": [
       "<div>\n",
       "<style scoped>\n",
       "    .dataframe tbody tr th:only-of-type {\n",
       "        vertical-align: middle;\n",
       "    }\n",
       "\n",
       "    .dataframe tbody tr th {\n",
       "        vertical-align: top;\n",
       "    }\n",
       "\n",
       "    .dataframe thead th {\n",
       "        text-align: right;\n",
       "    }\n",
       "</style>\n",
       "<table border=\"1\" class=\"dataframe\">\n",
       "  <thead>\n",
       "    <tr style=\"text-align: right;\">\n",
       "      <th></th>\n",
       "      <th>title</th>\n",
       "      <th>avg salary</th>\n",
       "    </tr>\n",
       "  </thead>\n",
       "  <tbody>\n",
       "    <tr>\n",
       "      <th>0</th>\n",
       "      <td>Assistant Engineer</td>\n",
       "      <td>48564.434447</td>\n",
       "    </tr>\n",
       "    <tr>\n",
       "      <th>1</th>\n",
       "      <td>Engineer</td>\n",
       "      <td>48535.336511</td>\n",
       "    </tr>\n",
       "    <tr>\n",
       "      <th>2</th>\n",
       "      <td>Manager</td>\n",
       "      <td>51531.041667</td>\n",
       "    </tr>\n",
       "    <tr>\n",
       "      <th>3</th>\n",
       "      <td>Senior Engineer</td>\n",
       "      <td>48506.799871</td>\n",
       "    </tr>\n",
       "    <tr>\n",
       "      <th>4</th>\n",
       "      <td>Senior Staff</td>\n",
       "      <td>58550.172704</td>\n",
       "    </tr>\n",
       "    <tr>\n",
       "      <th>5</th>\n",
       "      <td>Staff</td>\n",
       "      <td>58465.382850</td>\n",
       "    </tr>\n",
       "    <tr>\n",
       "      <th>6</th>\n",
       "      <td>Technique Leader</td>\n",
       "      <td>48582.896092</td>\n",
       "    </tr>\n",
       "  </tbody>\n",
       "</table>\n",
       "</div>"
      ],
      "text/plain": [
       "                title    avg salary\n",
       "0  Assistant Engineer  48564.434447\n",
       "1            Engineer  48535.336511\n",
       "2             Manager  51531.041667\n",
       "3     Senior Engineer  48506.799871\n",
       "4        Senior Staff  58550.172704\n",
       "5               Staff  58465.382850\n",
       "6    Technique Leader  48582.896092"
      ]
     },
     "execution_count": 9,
     "metadata": {},
     "output_type": "execute_result"
    }
   ],
   "source": [
    "average_salary_df = pd.DataFrame({'avg salary': avg_salary})\n",
    "avg_sal = average_salary_df.reset_index()\n",
    "avg_sal"
   ]
  },
  {
   "cell_type": "code",
   "execution_count": 10,
   "id": "44951899",
   "metadata": {},
   "outputs": [
    {
     "name": "stderr",
     "output_type": "stream",
     "text": [
      "/var/folders/jn/tzr4g2352zg3sq44kwsxrr_00000gn/T/ipykernel_1899/2383452969.py:17: UserWarning: FixedFormatter should only be used together with FixedLocator\n",
      "  plt.gca().set_yticklabels(['${:,.0f}'.format(x) for x in current_values])\n"
     ]
    },
    {
     "data": {
      "image/png": "[encoded data removed]",
      "text/plain": [
       "<Figure size 432x288 with 1 Axes>"
      ]
     },
     "metadata": {},
     "output_type": "display_data"
    }
   ],
   "source": [
    "plt.style.use('ggplot')\n",
    "\n",
    "x = avg_sal['title']\n",
    "y = avg_sal['avg salary']\n",
    "\n",
    "\n",
    "plt.bar(x, y, color='blue')\n",
    "plt.xlabel(\"Job Title Name\")\n",
    "plt.ylabel(\"Salary\")\n",
    "plt.title(\"Average Salary By Title\")\n",
    "\n",
    "# rotate axis labels\n",
    "plt.setp(plt.gca().get_xticklabels(), rotation=45, horizontalalignment='right')\n",
    "\n",
    "# Format the labels on y-axis with dollar sign\n",
    "current_values = plt.gca().get_yticks()\n",
    "plt.gca().set_yticklabels(['${:,.0f}'.format(x) for x in current_values])\n",
    "\n",
    "plt.show()"
   ]
  },
  {
   "cell_type": "code",
   "execution_count": null,
   "id": "d58e4960",
   "metadata": {},
   "outputs": [],
   "source": []
  }
 ],
 "metadata": {
  "kernelspec": {
   "display_name": "Python [conda env:PythonData38a] *",
   "language": "python",
   "name": "conda-env-PythonData38a-py"
  },
  "language_info": {
   "codemirror_mode": {
    "name": "ipython",
    "version": 3
   },
   "file_extension": ".py",
   "mimetype": "text/x-python",
   "name": "python",
   "nbconvert_exporter": "python",
   "pygments_lexer": "ipython3",
   "version": "3.8.12"
  }
 },
 "nbformat": 4,
 "nbformat_minor": 5
}
